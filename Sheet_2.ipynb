{
  "nbformat": 4,
  "nbformat_minor": 0,
  "metadata": {
    "colab": {
      "name": "Sheet#2.ipynb",
      "provenance": [],
      "authorship_tag": "ABX9TyPyJR84plPjhWI4ekQhYNwc",
      "include_colab_link": true
    },
    "kernelspec": {
      "name": "python3",
      "display_name": "Python 3"
    }
  },
  "cells": [
    {
      "cell_type": "markdown",
      "metadata": {
        "id": "view-in-github",
        "colab_type": "text"
      },
      "source": [
        "<a href=\"https://colab.research.google.com/github/hagarbarakat/Pattern-Recognition/blob/master/Sheet_2.ipynb\" target=\"_parent\"><img src=\"https://colab.research.google.com/assets/colab-badge.svg\" alt=\"Open In Colab\"/></a>"
      ]
    },
    {
      "cell_type": "markdown",
      "metadata": {
        "id": "Cz5BPhGkuh7r",
        "colab_type": "text"
      },
      "source": [
        "**LDA**\n",
        "\n",
        "\n",
        "Use eig instead of eigh as S_inv*B isn't symmetric"
      ]
    },
    {
      "cell_type": "code",
      "metadata": {
        "id": "dbJ_U2a1drJj",
        "colab_type": "code",
        "colab": {}
      },
      "source": [
        "import numpy as np\n",
        "import matplotlib.pyplot as plt\n",
        "from matplotlib import style\n",
        "from numpy.linalg import eig, inv\n"
      ],
      "execution_count": 0,
      "outputs": []
    },
    {
      "cell_type": "code",
      "metadata": {
        "id": "A1iZalZEvRKp",
        "colab_type": "code",
        "outputId": "e101f2ee-46ac-4200-ef93-70504369e7a1",
        "colab": {
          "base_uri": "https://localhost:8080/",
          "height": 752
        }
      },
      "source": [
        "#Data matrices\n",
        "tri = np.array([[2,3],[3,3],[3,4],[5,8],[7,7]])\n",
        "circle = np.array([[5,4],[6,5],[7,5],[7,4],[8,2],[9,4]])\n",
        "# mean for each class\n",
        "mean_tri = np.mean(tri, axis = 0)\n",
        "mean_circle = np.mean(circle, axis = 0)\n",
        "print(\"Mean for triangles =\", mean_tri)\n",
        "print(\"\\nMean for circles =\", mean_circle)\n",
        "diff = (mean_tri - mean_circle).reshape(1, 2)\n",
        "print(\"\\nDifference=\", diff)\n",
        "B =  np.dot(diff.T, diff)\n",
        "print(\"\\nB Matrix :\\n\", B)\n",
        "S = np.array([[0.056, -0.029],[-0.029, 0.052]])\n",
        "M = S.dot(B)\n",
        "print(\"\\nS^-1.B =\\n\", M)\n",
        "val, vec = eig(M)\n",
        "print(\"\\nEigenvalues (Σ):\\n\", val)\n",
        "print(\"\\nEigenvectors (Σ):\\n\",vec)\n",
        "eig_pairs = [(np.abs(val[i]), vec[:,i]) for i in range(len(val))]\n",
        "# Sort the (eigenvalue, eigenvector) tuples from high to low\n",
        "eig_pairs.sort(key=lambda x: x[0], reverse=True)\n",
        "print('\\nEigenvalues in descending order:')\n",
        "for i in eig_pairs:\n",
        "    print(i[0])\n",
        "print(\"\\nLargest Eigenvalue= \", eig_pairs[0][0])\n",
        "print(\"\\nW: \\n\", eig_pairs[0][1])\n",
        "w = eig_pairs[0][1]\n",
        "# TODO: plotting\n",
        "plt.scatter(tri[:, 0], tri[:, 1], c = 'red', marker = \"^\", label = \"Triangles\")\n",
        "plt.scatter(circle[:, 0], circle[:, 1], c = 'blue', label = \"Circles\")\n",
        "x = np.linspace(0, 4, 1000)\n",
        "plt.plot(x, x*w[1]/w[0], c = \"black\")\n",
        "plt.legend()\n",
        "plt.show()"
      ],
      "execution_count": 0,
      "outputs": [
        {
          "output_type": "stream",
          "text": [
            "Mean for triangles = [4. 5.]\n",
            "\n",
            "Mean for circles = [7. 4.]\n",
            "\n",
            "Difference= [[-3.  1.]]\n",
            "\n",
            "B Matrix :\n",
            " [[ 9. -3.]\n",
            " [-3.  1.]]\n",
            "\n",
            "S^-1.B =\n",
            " [[ 0.591 -0.197]\n",
            " [-0.417  0.139]]\n",
            "\n",
            "Eigenvalues (Σ):\n",
            " [0.73 0.  ]\n",
            "\n",
            "Eigenvectors (Σ):\n",
            " [[ 0.81708279  0.31622777]\n",
            " [-0.57652035  0.9486833 ]]\n",
            "\n",
            "Eigenvalues in descending order:\n",
            "0.73\n",
            "0.0\n",
            "\n",
            "Largest Eigenvalue=  0.73\n",
            "\n",
            "W: \n",
            " [ 0.81708279 -0.57652035]\n"
          ],
          "name": "stdout"
        },
        {
          "output_type": "display_data",
          "data": {
            "image/png": "[encoded data removed]",
            "text/plain": [
              "<Figure size 432x288 with 1 Axes>"
            ]
          },
          "metadata": {
            "tags": []
          }
        }
      ]
    },
    {
      "cell_type": "markdown",
      "metadata": {
        "id": "MhhLWJ3fEG1_",
        "colab_type": "text"
      },
      "source": [
        "**Midterm Question Fall 2017**"
      ]
    },
    {
      "cell_type": "code",
      "metadata": {
        "id": "DTc3eXv-EG9N",
        "colab_type": "code",
        "outputId": "2552baef-226c-4b06-b83c-439a06e21937",
        "colab": {
          "base_uri": "https://localhost:8080/",
          "height": 1000
        }
      },
      "source": [
        "class_1 = np.array([[1,1],[2,1],[1,2]])\n",
        "class_2 = np.array([[2,2],[3,2]])\n",
        "# Compute μ+1 and μ−1\n",
        "mean_class1= np.mean(class_1, axis = 0)\n",
        "mean_class2= np.mean(class_2, axis = 0)\n",
        "print(\"Mean class 1:\\n\",mean_class1)\n",
        "print(\"\\nMean class 2:\\n\", mean_class2)\n",
        "# Compute B\n",
        "diff = (mean_class1-mean_class2).reshape(1,2)\n",
        "B = np.dot(diff.T, diff)\n",
        "print(\"\\nMatrix B:\", B, sep=\"\\n\")\n",
        "# Compute S+1 and S−1\n",
        "S_class1 = (len(class_1)-1)*np.cov(class_1.T)\n",
        "S_class2 = (len(class_2)-1)*np.cov(class_2.T)\n",
        "print(\"\\nS+1:\\n\", S_class1)\n",
        "print(\"\\nS-1: \\n\", S_class2)\n",
        "# Compute S\n",
        "S = S_class1 + S_class2\n",
        "print(\"\\nS: \\n\", S)\n",
        "#Compute S inverse\n",
        "S_inv = inv(S) \n",
        "print(\"\\nS inverse:\\n\", S_inv)\n",
        "# Eigenvalues and eigenvectors\n",
        "M = S_inv.dot(B)\n",
        "print(\"\\nS^-1.B =\\n\", M)\n",
        "val, vec = eig(M)\n",
        "print(\"\\nEigenvalues (Σ):\\n\", val)\n",
        "print(\"\\nEigenvectors (Σ):\\n\",vec)\n",
        "eig_pairs = [(val[i], vec[:,i]) for i in range(len(val))]\n",
        "# Sort the (eigenvalue, eigenvector) tuples from high to low\n",
        "eig_pairs.sort(key=lambda x: x[0], reverse=True)\n",
        "print('\\nEigenvalues in descending order:')\n",
        "for i in eig_pairs:\n",
        "    print(i[0])\n",
        "print(\"\\nLargest Eigenvalue= \", eig_pairs[0][0])\n",
        "# instead of pairs -> c is W\n",
        "c = vec[:, np.argmax(val)]\n",
        "print(\"cccc:\\n\",c)\n",
        "w = eig_pairs[0][1]\n",
        "print(\"\\nW: \\n\", eig_pairs[0][1])\n",
        "#TODO plot\n",
        "plt.scatter(class_1[:, 0], class_1[:, 1], c = 'red', label = \"Class 1\")\n",
        "plt.scatter(class_2[:, 0], class_2[:, 1], c = 'blue', label = \"Class 2\")\n",
        "x = np.linspace(0, 4, 1000)\n",
        "plt.plot(x, x*w[1]/w[0], c = \"black\")\n",
        "plt.legend()\n",
        "plt.show()"
      ],
      "execution_count": 0,
      "outputs": [
        {
          "output_type": "stream",
          "text": [
            "Mean class 1:\n",
            " [1.33333333 1.33333333]\n",
            "\n",
            "Mean class 2:\n",
            " [2.5 2. ]\n",
            "\n",
            "Matrix B:\n",
            "[[1.36111111 0.77777778]\n",
            " [0.77777778 0.44444444]]\n",
            "\n",
            "S+1:\n",
            " [[ 0.66666667 -0.33333333]\n",
            " [-0.33333333  0.66666667]]\n",
            "\n",
            "S-1: \n",
            " [[0.5 0. ]\n",
            " [0.  0. ]]\n",
            "\n",
            "S: \n",
            " [[ 1.16666667 -0.33333333]\n",
            " [-0.33333333  0.66666667]]\n",
            "\n",
            "S inverse:\n",
            " [[1.   0.5 ]\n",
            " [0.5  1.75]]\n",
            "\n",
            "S^-1.B =\n",
            " [[1.75       1.        ]\n",
            " [2.04166667 1.16666667]]\n",
            "\n",
            "Eigenvalues (Σ):\n",
            " [2.91666667e+00 2.22044605e-16]\n",
            "\n",
            "Eigenvectors (Σ):\n",
            " [[ 0.65079137 -0.49613894]\n",
            " [ 0.7592566   0.86824314]]\n",
            "\n",
            "Eigenvalues in descending order:\n",
            "2.916666666666668\n",
            "2.220446049250313e-16\n",
            "\n",
            "Largest Eigenvalue=  2.916666666666668\n",
            "cccc:\n",
            " [0.65079137 0.7592566 ]\n",
            "\n",
            "W: \n",
            " [0.65079137 0.7592566 ]\n"
          ],
          "name": "stdout"
        },
        {
          "output_type": "display_data",
          "data": {
            "image/png": "[encoded data removed]",
            "text/plain": [
              "<Figure size 432x288 with 1 Axes>"
            ]
          },
          "metadata": {
            "tags": []
          }
        }
      ]
    }
  ]
}