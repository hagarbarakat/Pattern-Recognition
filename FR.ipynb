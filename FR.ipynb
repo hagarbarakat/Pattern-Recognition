{
  "nbformat": 4,
  "nbformat_minor": 0,
  "metadata": {
    "colab": {
      "name": "FR.ipynb",
      "provenance": [],
      "collapsed_sections": [],
      "include_colab_link": true
    },
    "kernelspec": {
      "name": "python3",
      "display_name": "Python 3"
    }
  },
  "cells": [
    {
      "cell_type": "markdown",
      "metadata": {
        "id": "view-in-github",
        "colab_type": "text"
      },
      "source": [
        "<a href=\"https://colab.research.google.com/github/hagarbarakat/Pattern-Recognition/blob/master/FR.ipynb\" target=\"_parent\"><img src=\"https://colab.research.google.com/assets/colab-badge.svg\" alt=\"Open In Colab\"/></a>"
      ]
    },
    {
      "cell_type": "markdown",
      "metadata": {
        "id": "noKKKqY7BUan",
        "colab_type": "text"
      },
      "source": [
        "# Face recognition \n",
        "## Assignment One - [Pattern Recognition Course]\n"
      ]
    },
    {
      "cell_type": "markdown",
      "metadata": {
        "id": "-gk56kMMBdBu",
        "colab_type": "text"
      },
      "source": [
        "Import dataset."
      ]
    },
    {
      "cell_type": "code",
      "metadata": {
        "id": "TTlIz2V2BUG0",
        "colab_type": "code",
        "outputId": "fadbac83-fc93-4fcc-f584-6ae80580a872",
        "colab": {
          "base_uri": "https://localhost:8080/",
          "height": 121
        }
      },
      "source": [
        "import glob\n",
        "import numpy as np\n",
        "import pandas as pd\n",
        "from matplotlib import pyplot as plt\n",
        "import numpy as np\n",
        "from numpy.linalg import eigh\n",
        "from numpy.linalg import eig, pinv\n",
        "from google.colab import drive\n",
        "from sklearn.neighbors import KNeighborsClassifier \n",
        "drive.mount('/content/drive')\n",
        "# !ls \"/content/drive/My Drive\"\n"
      ],
      "execution_count": 0,
      "outputs": [
        {
          "output_type": "stream",
          "text": [
            "Go to this URL in a browser: https://accounts.google.com/o/oauth2/auth?client_id=947318989803-6bn6qk8qdgf4n4g3pfee6491hc0brc4i.apps.googleusercontent.com&redirect_uri=urn%3aietf%3awg%3aoauth%3a2.0%3aoob&response_type=code&scope=email%20https%3a%2f%2fwww.googleapis.com%2fauth%2fdocs.test%20https%3a%2f%2fwww.googleapis.com%2fauth%2fdrive%20https%3a%2f%2fwww.googleapis.com%2fauth%2fdrive.photos.readonly%20https%3a%2f%2fwww.googleapis.com%2fauth%2fpeopleapi.readonly\n",
            "\n",
            "Enter your authorization code:\n",
            "··········\n",
            "Mounted at /content/drive\n"
          ],
          "name": "stdout"
        }
      ]
    },
    {
      "cell_type": "code",
      "metadata": {
        "id": "khdyOPGlHrZE",
        "colab_type": "code",
        "outputId": "52cfa14d-ad18-46f1-a2e5-805c5c150ba8",
        "colab": {
          "base_uri": "https://localhost:8080/",
          "height": 34
        }
      },
      "source": [
        "from google.colab import drive\n",
        "drive.mount('/content/drive')"
      ],
      "execution_count": 0,
      "outputs": [
        {
          "output_type": "stream",
          "text": [
            "Drive already mounted at /content/drive; to attempt to forcibly remount, call drive.mount(\"/content/drive\", force_remount=True).\n"
          ],
          "name": "stdout"
        }
      ]
    },
    {
      "cell_type": "code",
      "metadata": {
        "id": "Wt0qj8xfAh7k",
        "colab_type": "code",
        "outputId": "a03d7a96-7ffd-4e09-967c-065179b02649",
        "colab": {
          "base_uri": "https://localhost:8080/",
          "height": 34
        }
      },
      "source": [
        "# unzip folder\n",
        "with open('/content/drive/My Drive/Assignment_1_PR /att-database-of-faces.zip') as f:\n",
        "  !unzip -q '/content/drive/My Drive/Assignment_1_PR /att-database-of-faces.zip'\n",
        "  !ls \"/content/drive/My Drive/Assignment_1_PR \"\n"
      ],
      "execution_count": 0,
      "outputs": [
        {
          "output_type": "stream",
          "text": [
            "att-database-of-faces.zip\n"
          ],
          "name": "stdout"
        }
      ]
    },
    {
      "cell_type": "markdown",
      "metadata": {
        "id": "RD-uT6N8IApc",
        "colab_type": "text"
      },
      "source": [
        "Read image"
      ]
    },
    {
      "cell_type": "code",
      "metadata": {
        "id": "tTMxMASlHIpm",
        "colab_type": "code",
        "colab": {}
      },
      "source": [
        "# function to read pictures and append pictures in X array and their labels in Y\n",
        "def read_pgm(pgmf):\n",
        "    assert pgmf.readline() == b'P5\\n'\n",
        "    (width, height) = [int(i) for i in pgmf.readline().split()]\n",
        "    depth = int(pgmf.readline())\n",
        "    assert depth <= 255\n",
        "\n",
        "    raster = []\n",
        "    for y in range(height):\n",
        "        for y in range(width):\n",
        "            raster.append(ord(pgmf.read(1)))\n",
        "    return raster"
      ],
      "execution_count": 0,
      "outputs": []
    },
    {
      "cell_type": "code",
      "metadata": {
        "id": "W29vXybkICEh",
        "colab_type": "code",
        "colab": {}
      },
      "source": [
        "# append data in X and labels in Y \n",
        "# Each folder starts with \"s\"\n",
        "X = []\n",
        "y = []\n",
        "for i in range(1,41):\n",
        "  curr_folder = 's'+str(i)\n",
        "  images = glob.glob(curr_folder + '/*.pgm')\n",
        "  for img in images:\n",
        "    f = open(img, \"rb\")\n",
        "    X.append(read_pgm(f))\n",
        "    y.append(i)\n",
        "\n",
        "# print(len(y))\n",
        "# print(len(X))\n",
        "# print(len(X[0]))"
      ],
      "execution_count": 0,
      "outputs": []
    },
    {
      "cell_type": "markdown",
      "metadata": {
        "id": "HxiH9ZArTyU-",
        "colab_type": "text"
      },
      "source": [
        "Split the Dataset into Training and Test sets"
      ]
    },
    {
      "cell_type": "code",
      "metadata": {
        "id": "fBJOUIefT2JG",
        "colab_type": "code",
        "colab": {}
      },
      "source": [
        "training_X = []\n",
        "training_y = []\n",
        "test_X = []\n",
        "test_y = []\n",
        "# even indices are for training and odd indices are for testing -> 50:50\n",
        "for i in range(len(X)):\n",
        "  if i%2 == 1:\n",
        "    training_X.append(X[i])\n",
        "    training_y.append(y[i])\n",
        "  else:\n",
        "    test_X.append(X[i])\n",
        "    test_y.append(y[i])\n",
        "\n",
        "# print(len(training_X))\n",
        "# print(len(training_y))\n",
        "# print(len(test_X))\n",
        "# print(len(test_y))"
      ],
      "execution_count": 0,
      "outputs": []
    },
    {
      "cell_type": "markdown",
      "metadata": {
        "id": "VAYdfUtBgQ_2",
        "colab_type": "text"
      },
      "source": [
        "###PCA\n",
        "use eigh as covariance matrix is an asymmetric matrix."
      ]
    },
    {
      "cell_type": "code",
      "metadata": {
        "id": "3KuYYDYKikah",
        "colab_type": "code",
        "colab": {}
      },
      "source": [
        "def pca(data):\n",
        "  # mean of data \n",
        "  mean = np.mean(data, axis = 0)\n",
        "  # center the data\n",
        "  Z = data - mean\n",
        "  # covariance for Matrix Z.T\n",
        "  covariance = np.cov(Z.T)\n",
        "  # calculate eigenvalues and eigenvetors for covariance matrix\n",
        "  val, vec = eigh(covariance)\n",
        "  # sort indices based on eigenvalues descendingly\n",
        "  indices = np.abs(val).argsort()[::-1]\n",
        "  eig_val = val[indices]\n",
        "  # sort eigenvalues' columns based on indices which are sorted descendingly\n",
        "  eig_vec = vec[:,indices]\n",
        "  return eig_val, eig_vec, Z"
      ],
      "execution_count": 0,
      "outputs": []
    },
    {
      "cell_type": "code",
      "metadata": {
        "id": "tnUXkdCuudRH",
        "colab_type": "code",
        "colab": {}
      },
      "source": [
        "def dimensions (eig_val, eig_vec, Z, alpha): \n",
        "  i = 0\n",
        "  U = []\n",
        "  # total summation for all eigenvalues\n",
        "  tot = sum(eig_val)\n",
        "  current_sum = 0\n",
        "  # to get minimum number of eigenvectors which are good enough \n",
        "  for x in range(len(eig_val)):\n",
        "      if current_sum/tot < alpha:\n",
        "        current_sum = current_sum + eig_val[x]\n",
        "        i = i+1\n",
        "  # i is number of dimensions\n",
        "  # 9) Compute the projection matrix U\n",
        "  U = eig_vec[:, 0 : i]\n",
        "  # 10) Project the instances into a 2-Dimension space. xນ= PTx\n",
        "  s = U.T.dot(Z.T)\n",
        "  s = s.T\n",
        "  return s, U"
      ],
      "execution_count": 0,
      "outputs": []
    },
    {
      "cell_type": "code",
      "metadata": {
        "id": "uLtzaeIwkJdB",
        "colab_type": "code",
        "colab": {}
      },
      "source": [
        "def pca_test (data, U):\n",
        "  mean = np.mean(data, axis = 0)\n",
        "  Z = data - mean\n",
        "  s = U.T.dot(Z.T)\n",
        "  s = s.T\n",
        "  return s"
      ],
      "execution_count": 0,
      "outputs": []
    },
    {
      "cell_type": "code",
      "metadata": {
        "id": "EtRP5vlL0Vsu",
        "colab_type": "code",
        "colab": {}
      },
      "source": [
        "def knn(eig_val, eig_vec, Z, training_y, test_X, test_y):\n",
        "  alpha = [0.8, 0.85, 0.9, 0.95]\n",
        "  K = [1, 3, 5, 7]\n",
        "  data_test = np.array(test_X)\n",
        "  for i in range(len(alpha)):\n",
        "    reduced_training, U = dimensions(eig_val, eig_vec, Z, alpha[i])\n",
        "    acc = []   # accuracy vector\n",
        "    # data matrix for test data \n",
        "    reduced_testing = pca_test(data_test, U)\n",
        "    for j in range(len(K)):\n",
        "      knn = KNeighborsClassifier(n_neighbors= K[j]) \n",
        "      knn.fit(reduced_training, training_y) \n",
        "      # Calculate the accuracy of the model \n",
        "      acc.append(knn.score(reduced_testing, test_y))\n",
        "    print(acc)\n",
        "    plt.plot(acc, K, label = alpha[i])\n",
        "    plt.legend()"
      ],
      "execution_count": 0,
      "outputs": []
    },
    {
      "cell_type": "code",
      "metadata": {
        "id": "NtgeA7TLgUNN",
        "colab_type": "code",
        "outputId": "e1467066-e0e7-4350-a6f7-333466176169",
        "colab": {
          "base_uri": "https://localhost:8080/",
          "height": 332
        }
      },
      "source": [
        "# data matrix for training data\n",
        "data = np.array(training_X)\n",
        "eig_val, eig_vec, Z = pca(data)\n",
        "knn(eig_val, eig_vec, Z, training_y, test_X, test_y)"
      ],
      "execution_count": 0,
      "outputs": [
        {
          "output_type": "stream",
          "text": [
            "[0.935, 0.865, 0.785, 0.78]\n",
            "[0.945, 0.855, 0.795, 0.795]\n",
            "[0.94, 0.845, 0.8, 0.765]\n",
            "[0.925, 0.85, 0.8, 0.77]\n"
          ],
          "name": "stdout"
        },
        {
          "output_type": "display_data",
          "data": {
            "image/png": "[encoded data removed]",
            "text/plain": [
              "<Figure size 432x288 with 1 Axes>"
            ]
          },
          "metadata": {
            "tags": []
          }
        }
      ]
    },
    {
      "cell_type": "code",
      "metadata": {
        "id": "bJ53qN1A8ZFa",
        "colab_type": "code",
        "colab": {}
      },
      "source": [
        "alpha = [0.8, 0.85, 0.9, 0.95]\n",
        "K = [1, 3, 5, 7]\n",
        "data_test = np.array(test_X)\n",
        "for i in range(len(alpha)):\n",
        "  reduced_training, U = dimensions(eig_val, eig_vec, Z, alpha[i])\n",
        "  acc = []\n",
        "  # data matrix for test data \n",
        "  reduced_testing = pca_test(data_test, U)\n",
        "  for j in range(len(K)):\n",
        "    knn = KNeighborsClassifier(n_neighbors= K[j]) \n",
        "    knn.fit(reduced_training, training_y) \n",
        "    # Calculate the accuracy of the model \n",
        "    #print(knn.score(reduced_testing, test_y))\n",
        "    acc.append(knn.score(reduced_testing, test_y))\n",
        "  print(acc)\n",
        "  plt.plot(acc, K, label = alpha[i])\n",
        "  plt.legend()\n",
        "  #plt.show()\n"
      ],
      "execution_count": 0,
      "outputs": []
    },
    {
      "cell_type": "markdown",
      "metadata": {
        "id": "-7zI4vtrtOio",
        "colab_type": "text"
      },
      "source": [
        "###LDA"
      ]
    },
    {
      "cell_type": "markdown",
      "metadata": {
        "id": "ReAvVsjWOrpq",
        "colab_type": "text"
      },
      "source": [
        "### Calculate the mean vector for every class Mu1,Mu2,..., Mu40"
      ]
    },
    {
      "cell_type": "code",
      "metadata": {
        "id": "02-saihG0UiK",
        "colab_type": "code",
        "colab": {}
      },
      "source": [
        "def eigen(M):\n",
        "  val, vec = eig(M)\n",
        "  indices = np.abs(val).argsort()[::-1]\n",
        "  eig_val = val[indices]\n",
        "  eig_vec = vec[:,indices]\n",
        "  W = np.real(eig_vec[:, 0:39]) # Take 39 eigen vectors\n",
        "  return  W\n",
        "  "
      ],
      "execution_count": 0,
      "outputs": []
    },
    {
      "cell_type": "code",
      "metadata": {
        "id": "Rv792deovK0c",
        "colab_type": "code",
        "colab": {}
      },
      "source": [
        "def transform (data, W):\n",
        "  transformed = W.T.dot((np.array(data)).T)\n",
        "  print(transformed.shape)\n",
        "  return transformed.T"
      ],
      "execution_count": 0,
      "outputs": []
    },
    {
      "cell_type": "code",
      "metadata": {
        "id": "sSu4rMul9w71",
        "colab_type": "code",
        "colab": {}
      },
      "source": [
        "# knn for LDA\n",
        "def knnLDA(transformed_train, training_y, transformed_test, test_y):\n",
        "  K = [1, 3, 5, 7]\n",
        "  acc = [] \n",
        "  for j in range(len(K)):\n",
        "    knn = KNeighborsClassifier(n_neighbors= K[j]) \n",
        "    knn.fit(transformed_train, training_y) \n",
        "      # Calculate the accuracy of the model \n",
        "    acc.append(knn.score(transformed_test, test_y))\n",
        "  print(acc)\n",
        "  plt.plot(acc, K)\n",
        "  #plt.legend()\n",
        "  #plt.show()"
      ],
      "execution_count": 0,
      "outputs": []
    },
    {
      "cell_type": "code",
      "metadata": {
        "id": "OrMrTSRdtQ7l",
        "colab_type": "code",
        "colab": {}
      },
      "source": [
        "def LDA(training_X, training_y):\n",
        "  S_tot = np.zeros((10304,10304))\n",
        "  # total mean for training data\n",
        "  total_mean = np.mean(training_X,axis=0).reshape(1,10304)\n",
        "  print(total_mean.shape)\n",
        "  #initialize Sb with zeroes \n",
        "  Sb=np.zeros((10304,10304))\n",
        "  temp = []\n",
        "  Z = np.zeros((1,10304))\n",
        "  padding = np.zeros((1,10304))\n",
        "  for i in range(40):\n",
        "      print('size of Z '+str(Z.shape))\n",
        "      for j in range(5):\n",
        "          temp.append(np.array(training_X[i*5+j]).reshape(1,10304))\n",
        "          print(\"temp: \", np.array(temp).shape)\n",
        "      # mean for every class in training data\n",
        "      temps = np.mean(temp, axis = 0)\n",
        "      print(temps.shape)\n",
        "      #S = (len(temp)-1)*np.cov(np.array(temp).T)\n",
        "      #print(i, temps)\n",
        "      # center data *for each class*\n",
        "      for k in range(5):\n",
        "        np.append(Z.reshape(1,10304), np.array(training_X[i*5+k]).reshape(1,10304) - temps , axis = 0)\n",
        "        #print(\"x\")\n",
        "      # S matrix -> scatter matrix\n",
        "    # print(\"z\")\n",
        "      print(\"Z : \",np.array(Z).shape)\n",
        "      Z = np.delete(Z, (0), axis=0)\n",
        "      S = np.dot(np.array(Z).T, np.array(Z))\n",
        "      print(\"y\")\n",
        "      S_tot = S_tot + S\n",
        "      tempy = (temps - total_mean)\n",
        "      print(tempy.shape)\n",
        "      Sb = Sb + (5 * np.dot(tempy, np.transpose(tempy)))\n",
        "      temp.clear()\n",
        "      #np.delete(Z)\n",
        "      Z = np.append(Z,padding , axis =0)\n",
        "  S_inv = pinv(S_tot)\n",
        "  M = S_inv.dot(Sb)\n",
        "  return M"
      ],
      "execution_count": 0,
      "outputs": []
    },
    {
      "cell_type": "code",
      "metadata": {
        "id": "wBvRfaNkmrhr",
        "colab_type": "code",
        "outputId": "d0646e80-f5ce-4516-ad54-61749163e05a",
        "colab": {
          "base_uri": "https://localhost:8080/",
          "height": 1000
        }
      },
      "source": [
        "M = LDA(training_X , training_y)\n",
        "#W = eigen(M)"
      ],
      "execution_count": 0,
      "outputs": [
        {
          "output_type": "stream",
          "text": [
            "(1, 10304)\n",
            "size of Z (1, 10304)\n",
            "temp:  (1, 1, 10304)\n",
            "temp:  (2, 1, 10304)\n",
            "temp:  (3, 1, 10304)\n",
            "temp:  (4, 1, 10304)\n",
            "temp:  (5, 1, 10304)\n",
            "(1, 10304)\n",
            "Z :  (1, 10304)\n",
            "y\n",
            "(1, 10304)\n",
            "size of Z (1, 10304)\n",
            "temp:  (1, 1, 10304)\n",
            "temp:  (2, 1, 10304)\n",
            "temp:  (3, 1, 10304)\n",
            "temp:  (4, 1, 10304)\n",
            "temp:  (5, 1, 10304)\n",
            "(1, 10304)\n",
            "Z :  (1, 10304)\n",
            "y\n",
            "(1, 10304)\n",
            "size of Z (1, 10304)\n",
            "temp:  (1, 1, 10304)\n",
            "temp:  (2, 1, 10304)\n",
            "temp:  (3, 1, 10304)\n",
            "temp:  (4, 1, 10304)\n",
            "temp:  (5, 1, 10304)\n",
            "(1, 10304)\n",
            "Z :  (1, 10304)\n",
            "y\n",
            "(1, 10304)\n",
            "size of Z (1, 10304)\n",
            "temp:  (1, 1, 10304)\n",
            "temp:  (2, 1, 10304)\n",
            "temp:  (3, 1, 10304)\n",
            "temp:  (4, 1, 10304)\n",
            "temp:  (5, 1, 10304)\n",
            "(1, 10304)\n",
            "Z :  (1, 10304)\n",
            "y\n",
            "(1, 10304)\n",
            "size of Z (1, 10304)\n",
            "temp:  (1, 1, 10304)\n",
            "temp:  (2, 1, 10304)\n",
            "temp:  (3, 1, 10304)\n",
            "temp:  (4, 1, 10304)\n",
            "temp:  (5, 1, 10304)\n",
            "(1, 10304)\n",
            "Z :  (1, 10304)\n",
            "y\n",
            "(1, 10304)\n",
            "size of Z (1, 10304)\n",
            "temp:  (1, 1, 10304)\n",
            "temp:  (2, 1, 10304)\n",
            "temp:  (3, 1, 10304)\n",
            "temp:  (4, 1, 10304)\n",
            "temp:  (5, 1, 10304)\n",
            "(1, 10304)\n",
            "Z :  (1, 10304)\n",
            "y\n",
            "(1, 10304)\n",
            "size of Z (1, 10304)\n",
            "temp:  (1, 1, 10304)\n",
            "temp:  (2, 1, 10304)\n",
            "temp:  (3, 1, 10304)\n",
            "temp:  (4, 1, 10304)\n",
            "temp:  (5, 1, 10304)\n",
            "(1, 10304)\n",
            "Z :  (1, 10304)\n",
            "y\n",
            "(1, 10304)\n",
            "size of Z (1, 10304)\n",
            "temp:  (1, 1, 10304)\n",
            "temp:  (2, 1, 10304)\n",
            "temp:  (3, 1, 10304)\n",
            "temp:  (4, 1, 10304)\n",
            "temp:  (5, 1, 10304)\n",
            "(1, 10304)\n",
            "Z :  (1, 10304)\n",
            "y\n",
            "(1, 10304)\n",
            "size of Z (1, 10304)\n",
            "temp:  (1, 1, 10304)\n",
            "temp:  (2, 1, 10304)\n",
            "temp:  (3, 1, 10304)\n",
            "temp:  (4, 1, 10304)\n",
            "temp:  (5, 1, 10304)\n",
            "(1, 10304)\n",
            "Z :  (1, 10304)\n",
            "y\n",
            "(1, 10304)\n",
            "size of Z (1, 10304)\n",
            "temp:  (1, 1, 10304)\n",
            "temp:  (2, 1, 10304)\n",
            "temp:  (3, 1, 10304)\n",
            "temp:  (4, 1, 10304)\n",
            "temp:  (5, 1, 10304)\n",
            "(1, 10304)\n",
            "Z :  (1, 10304)\n",
            "y\n",
            "(1, 10304)\n",
            "size of Z (1, 10304)\n",
            "temp:  (1, 1, 10304)\n",
            "temp:  (2, 1, 10304)\n",
            "temp:  (3, 1, 10304)\n",
            "temp:  (4, 1, 10304)\n",
            "temp:  (5, 1, 10304)\n",
            "(1, 10304)\n",
            "Z :  (1, 10304)\n",
            "y\n",
            "(1, 10304)\n",
            "size of Z (1, 10304)\n",
            "temp:  (1, 1, 10304)\n",
            "temp:  (2, 1, 10304)\n",
            "temp:  (3, 1, 10304)\n",
            "temp:  (4, 1, 10304)\n",
            "temp:  (5, 1, 10304)\n",
            "(1, 10304)\n",
            "Z :  (1, 10304)\n",
            "y\n",
            "(1, 10304)\n",
            "size of Z (1, 10304)\n",
            "temp:  (1, 1, 10304)\n",
            "temp:  (2, 1, 10304)\n",
            "temp:  (3, 1, 10304)\n",
            "temp:  (4, 1, 10304)\n",
            "temp:  (5, 1, 10304)\n",
            "(1, 10304)\n",
            "Z :  (1, 10304)\n",
            "y\n",
            "(1, 10304)\n",
            "size of Z (1, 10304)\n",
            "temp:  (1, 1, 10304)\n",
            "temp:  (2, 1, 10304)\n",
            "temp:  (3, 1, 10304)\n",
            "temp:  (4, 1, 10304)\n",
            "temp:  (5, 1, 10304)\n",
            "(1, 10304)\n",
            "Z :  (1, 10304)\n",
            "y\n",
            "(1, 10304)\n",
            "size of Z (1, 10304)\n",
            "temp:  (1, 1, 10304)\n",
            "temp:  (2, 1, 10304)\n",
            "temp:  (3, 1, 10304)\n",
            "temp:  (4, 1, 10304)\n",
            "temp:  (5, 1, 10304)\n",
            "(1, 10304)\n",
            "Z :  (1, 10304)\n",
            "y\n",
            "(1, 10304)\n",
            "size of Z (1, 10304)\n",
            "temp:  (1, 1, 10304)\n",
            "temp:  (2, 1, 10304)\n",
            "temp:  (3, 1, 10304)\n",
            "temp:  (4, 1, 10304)\n",
            "temp:  (5, 1, 10304)\n",
            "(1, 10304)\n",
            "Z :  (1, 10304)\n",
            "y\n",
            "(1, 10304)\n",
            "size of Z (1, 10304)\n",
            "temp:  (1, 1, 10304)\n",
            "temp:  (2, 1, 10304)\n",
            "temp:  (3, 1, 10304)\n",
            "temp:  (4, 1, 10304)\n",
            "temp:  (5, 1, 10304)\n",
            "(1, 10304)\n",
            "Z :  (1, 10304)\n",
            "y\n",
            "(1, 10304)\n",
            "size of Z (1, 10304)\n",
            "temp:  (1, 1, 10304)\n",
            "temp:  (2, 1, 10304)\n",
            "temp:  (3, 1, 10304)\n",
            "temp:  (4, 1, 10304)\n",
            "temp:  (5, 1, 10304)\n",
            "(1, 10304)\n",
            "Z :  (1, 10304)\n",
            "y\n",
            "(1, 10304)\n",
            "size of Z (1, 10304)\n",
            "temp:  (1, 1, 10304)\n",
            "temp:  (2, 1, 10304)\n",
            "temp:  (3, 1, 10304)\n",
            "temp:  (4, 1, 10304)\n",
            "temp:  (5, 1, 10304)\n",
            "(1, 10304)\n",
            "Z :  (1, 10304)\n",
            "y\n",
            "(1, 10304)\n",
            "size of Z (1, 10304)\n",
            "temp:  (1, 1, 10304)\n",
            "temp:  (2, 1, 10304)\n",
            "temp:  (3, 1, 10304)\n",
            "temp:  (4, 1, 10304)\n",
            "temp:  (5, 1, 10304)\n",
            "(1, 10304)\n",
            "Z :  (1, 10304)\n",
            "y\n",
            "(1, 10304)\n",
            "size of Z (1, 10304)\n",
            "temp:  (1, 1, 10304)\n",
            "temp:  (2, 1, 10304)\n",
            "temp:  (3, 1, 10304)\n",
            "temp:  (4, 1, 10304)\n",
            "temp:  (5, 1, 10304)\n",
            "(1, 10304)\n",
            "Z :  (1, 10304)\n",
            "y\n",
            "(1, 10304)\n",
            "size of Z (1, 10304)\n",
            "temp:  (1, 1, 10304)\n",
            "temp:  (2, 1, 10304)\n",
            "temp:  (3, 1, 10304)\n",
            "temp:  (4, 1, 10304)\n",
            "temp:  (5, 1, 10304)\n",
            "(1, 10304)\n",
            "Z :  (1, 10304)\n",
            "y\n",
            "(1, 10304)\n",
            "size of Z (1, 10304)\n",
            "temp:  (1, 1, 10304)\n",
            "temp:  (2, 1, 10304)\n",
            "temp:  (3, 1, 10304)\n",
            "temp:  (4, 1, 10304)\n",
            "temp:  (5, 1, 10304)\n",
            "(1, 10304)\n",
            "Z :  (1, 10304)\n",
            "y\n",
            "(1, 10304)\n",
            "size of Z (1, 10304)\n",
            "temp:  (1, 1, 10304)\n",
            "temp:  (2, 1, 10304)\n",
            "temp:  (3, 1, 10304)\n",
            "temp:  (4, 1, 10304)\n",
            "temp:  (5, 1, 10304)\n",
            "(1, 10304)\n",
            "Z :  (1, 10304)\n",
            "y\n",
            "(1, 10304)\n",
            "size of Z (1, 10304)\n",
            "temp:  (1, 1, 10304)\n",
            "temp:  (2, 1, 10304)\n",
            "temp:  (3, 1, 10304)\n",
            "temp:  (4, 1, 10304)\n",
            "temp:  (5, 1, 10304)\n",
            "(1, 10304)\n",
            "Z :  (1, 10304)\n",
            "y\n",
            "(1, 10304)\n",
            "size of Z (1, 10304)\n",
            "temp:  (1, 1, 10304)\n",
            "temp:  (2, 1, 10304)\n",
            "temp:  (3, 1, 10304)\n",
            "temp:  (4, 1, 10304)\n",
            "temp:  (5, 1, 10304)\n",
            "(1, 10304)\n",
            "Z :  (1, 10304)\n",
            "y\n",
            "(1, 10304)\n",
            "size of Z (1, 10304)\n",
            "temp:  (1, 1, 10304)\n",
            "temp:  (2, 1, 10304)\n",
            "temp:  (3, 1, 10304)\n",
            "temp:  (4, 1, 10304)\n",
            "temp:  (5, 1, 10304)\n",
            "(1, 10304)\n",
            "Z :  (1, 10304)\n",
            "y\n",
            "(1, 10304)\n",
            "size of Z (1, 10304)\n",
            "temp:  (1, 1, 10304)\n",
            "temp:  (2, 1, 10304)\n",
            "temp:  (3, 1, 10304)\n",
            "temp:  (4, 1, 10304)\n",
            "temp:  (5, 1, 10304)\n",
            "(1, 10304)\n",
            "Z :  (1, 10304)\n",
            "y\n",
            "(1, 10304)\n",
            "size of Z (1, 10304)\n",
            "temp:  (1, 1, 10304)\n",
            "temp:  (2, 1, 10304)\n",
            "temp:  (3, 1, 10304)\n",
            "temp:  (4, 1, 10304)\n",
            "temp:  (5, 1, 10304)\n",
            "(1, 10304)\n",
            "Z :  (1, 10304)\n",
            "y\n",
            "(1, 10304)\n",
            "size of Z (1, 10304)\n",
            "temp:  (1, 1, 10304)\n",
            "temp:  (2, 1, 10304)\n",
            "temp:  (3, 1, 10304)\n",
            "temp:  (4, 1, 10304)\n",
            "temp:  (5, 1, 10304)\n",
            "(1, 10304)\n",
            "Z :  (1, 10304)\n",
            "y\n",
            "(1, 10304)\n",
            "size of Z (1, 10304)\n",
            "temp:  (1, 1, 10304)\n",
            "temp:  (2, 1, 10304)\n",
            "temp:  (3, 1, 10304)\n",
            "temp:  (4, 1, 10304)\n",
            "temp:  (5, 1, 10304)\n",
            "(1, 10304)\n",
            "Z :  (1, 10304)\n",
            "y\n",
            "(1, 10304)\n",
            "size of Z (1, 10304)\n",
            "temp:  (1, 1, 10304)\n",
            "temp:  (2, 1, 10304)\n",
            "temp:  (3, 1, 10304)\n",
            "temp:  (4, 1, 10304)\n",
            "temp:  (5, 1, 10304)\n",
            "(1, 10304)\n",
            "Z :  (1, 10304)\n",
            "y\n",
            "(1, 10304)\n",
            "size of Z (1, 10304)\n",
            "temp:  (1, 1, 10304)\n",
            "temp:  (2, 1, 10304)\n",
            "temp:  (3, 1, 10304)\n",
            "temp:  (4, 1, 10304)\n",
            "temp:  (5, 1, 10304)\n",
            "(1, 10304)\n",
            "Z :  (1, 10304)\n",
            "y\n",
            "(1, 10304)\n",
            "size of Z (1, 10304)\n",
            "temp:  (1, 1, 10304)\n",
            "temp:  (2, 1, 10304)\n",
            "temp:  (3, 1, 10304)\n",
            "temp:  (4, 1, 10304)\n",
            "temp:  (5, 1, 10304)\n",
            "(1, 10304)\n",
            "Z :  (1, 10304)\n",
            "y\n",
            "(1, 10304)\n",
            "size of Z (1, 10304)\n",
            "temp:  (1, 1, 10304)\n",
            "temp:  (2, 1, 10304)\n",
            "temp:  (3, 1, 10304)\n",
            "temp:  (4, 1, 10304)\n",
            "temp:  (5, 1, 10304)\n",
            "(1, 10304)\n",
            "Z :  (1, 10304)\n",
            "y\n",
            "(1, 10304)\n",
            "size of Z (1, 10304)\n",
            "temp:  (1, 1, 10304)\n",
            "temp:  (2, 1, 10304)\n",
            "temp:  (3, 1, 10304)\n",
            "temp:  (4, 1, 10304)\n",
            "temp:  (5, 1, 10304)\n",
            "(1, 10304)\n",
            "Z :  (1, 10304)\n",
            "y\n",
            "(1, 10304)\n",
            "size of Z (1, 10304)\n",
            "temp:  (1, 1, 10304)\n",
            "temp:  (2, 1, 10304)\n",
            "temp:  (3, 1, 10304)\n",
            "temp:  (4, 1, 10304)\n",
            "temp:  (5, 1, 10304)\n",
            "(1, 10304)\n",
            "Z :  (1, 10304)\n",
            "y\n",
            "(1, 10304)\n",
            "size of Z (1, 10304)\n",
            "temp:  (1, 1, 10304)\n",
            "temp:  (2, 1, 10304)\n",
            "temp:  (3, 1, 10304)\n",
            "temp:  (4, 1, 10304)\n",
            "temp:  (5, 1, 10304)\n",
            "(1, 10304)\n",
            "Z :  (1, 10304)\n",
            "y\n",
            "(1, 10304)\n",
            "size of Z (1, 10304)\n",
            "temp:  (1, 1, 10304)\n",
            "temp:  (2, 1, 10304)\n",
            "temp:  (3, 1, 10304)\n",
            "temp:  (4, 1, 10304)\n",
            "temp:  (5, 1, 10304)\n",
            "(1, 10304)\n",
            "Z :  (1, 10304)\n",
            "y\n",
            "(1, 10304)\n",
            "size of Z (1, 10304)\n",
            "temp:  (1, 1, 10304)\n",
            "temp:  (2, 1, 10304)\n",
            "temp:  (3, 1, 10304)\n",
            "temp:  (4, 1, 10304)\n",
            "temp:  (5, 1, 10304)\n",
            "(1, 10304)\n",
            "Z :  (1, 10304)\n",
            "y\n",
            "(1, 10304)\n"
          ],
          "name": "stdout"
        }
      ]
    },
    {
      "cell_type": "code",
      "metadata": {
        "id": "1kYMZcvqHoEy",
        "colab_type": "code",
        "colab": {}
      },
      "source": [
        "W = eigen(M)"
      ],
      "execution_count": 0,
      "outputs": []
    },
    {
      "cell_type": "code",
      "metadata": {
        "id": "G-RZKqv_vhPR",
        "colab_type": "code",
        "outputId": "2338079e-f191-4023-9df8-f7e34eb28e1d",
        "colab": {
          "base_uri": "https://localhost:8080/",
          "height": 466
        }
      },
      "source": [
        "print(np.array(training_X).shape, sep = \"\\n\")\n",
        "print(np.array(test_X).shape, sep = \"\\n\")\n",
        "transformed_train = transform(training_X, W)\n",
        "transformed_test = transform(test_X, W)\n",
        "print(transformed_train)\n",
        "knnLDA(transformed_train, training_y, transformed_test, test_y)"
      ],
      "execution_count": 0,
      "outputs": [
        {
          "output_type": "stream",
          "text": [
            "(200, 10304)\n",
            "(200, 10304)\n",
            "(39, 200)\n",
            "(39, 200)\n",
            "[[ 34. 175. 117. ... 133. 123. 124.]\n",
            " [ 37. 154. 128. ... 169. 161. 148.]\n",
            " [ 24. 166. 184. ... 170. 169. 166.]\n",
            " ...\n",
            " [ 40. 160. 202. ... 196. 200. 198.]\n",
            " [ 42. 187. 194. ... 191. 192. 181.]\n",
            " [ 93. 191. 199. ... 201. 202. 202.]]\n",
            "[0.425, 0.345, 0.295, 0.27]\n"
          ],
          "name": "stdout"
        },
        {
          "output_type": "display_data",
          "data": {
            "image/png": "[encoded data removed]",
            "text/plain": [
              "<Figure size 432x288 with 1 Axes>"
            ]
          },
          "metadata": {
            "tags": []
          }
        }
      ]
    },
    {
      "cell_type": "markdown",
      "metadata": {
        "id": "lW_zm9fXMXhm",
        "colab_type": "text"
      },
      "source": [
        "##Bonus"
      ]
    },
    {
      "cell_type": "code",
      "metadata": {
        "id": "81dO_rfrMWzp",
        "colab_type": "code",
        "colab": {}
      },
      "source": [
        "train_X = []\n",
        "train_y = []\n",
        "X_test = []\n",
        "y_test = []\n",
        "# 70:30\n",
        "for i in range(len(X)):\n",
        "  if i%10 < 7:\n",
        "    train_X.append(X[i])\n",
        "    train_y.append(y[i])\n",
        "  else:\n",
        "    X_test.append(X[i])\n",
        "    y_test.append(y[i])"
      ],
      "execution_count": 0,
      "outputs": []
    },
    {
      "cell_type": "markdown",
      "metadata": {
        "id": "86mkcZ5WOkC5",
        "colab_type": "text"
      },
      "source": [
        "**PCA**"
      ]
    },
    {
      "cell_type": "code",
      "metadata": {
        "id": "GptfNBnTM-Z4",
        "colab_type": "code",
        "outputId": "e28365f0-3ef4-41b2-ac3a-2e6d1e5cc036",
        "colab": {
          "base_uri": "https://localhost:8080/",
          "height": 332
        }
      },
      "source": [
        "# data matrix for training data\n",
        "data = np.array(train_X)\n",
        "eig_val, eig_vec, Z = pca(data)\n",
        "knn(eig_val, eig_vec, Z, train_y, X_test, y_test)"
      ],
      "execution_count": 0,
      "outputs": [
        {
          "output_type": "stream",
          "text": [
            "[0.9916666666666667, 0.95, 0.875, 0.875]\n",
            "[0.9916666666666667, 0.9666666666666667, 0.9, 0.85]\n",
            "[0.9916666666666667, 0.9666666666666667, 0.8916666666666667, 0.8583333333333333]\n",
            "[0.9916666666666667, 0.9583333333333334, 0.9, 0.8416666666666667]\n"
          ],
          "name": "stdout"
        },
        {
          "output_type": "display_data",
          "data": {
            "image/png": "[encoded data removed]",
            "text/plain": [
              "<Figure size 432x288 with 1 Axes>"
            ]
          },
          "metadata": {
            "tags": []
          }
        }
      ]
    },
    {
      "cell_type": "markdown",
      "metadata": {
        "id": "1dZc02kPOol9",
        "colab_type": "text"
      },
      "source": [
        "**LDA**"
      ]
    },
    {
      "cell_type": "code",
      "metadata": {
        "id": "EsdmJJ0gOrvG",
        "colab_type": "code",
        "outputId": "ee72a0a9-1d49-42ab-94d8-5b3486a6a116",
        "colab": {
          "base_uri": "https://localhost:8080/",
          "height": 901
        }
      },
      "source": [
        "M = LDA(train_X , train_y)\n",
        "W = eigen(M)\n",
        "transformed_traininig = transform(train_X)\n",
        "transformed_testing = transform(X_test)\n"
      ],
      "execution_count": 0,
      "outputs": [
        {
          "output_type": "stream",
          "text": [
            "0 [48.8 50.8 50.2 ... 37.8 39.4 36.8]\n",
            "1 [44.  40.6 37.8 ... 54.8 51.  52. ]\n",
            "2 [ 50.   51.8  49.2 ... 104.4 104.2 103.2]\n",
            "3 [103.4 103.6 106.6 ...  47.6  47.6  47.4]\n",
            "4 [115.  115.2 115.2 ...  61.4  60.8  62.6]\n",
            "5 [120.4 121.8 120.  ...  65.8  64.8  64.8]\n",
            "6 [129.8 128.8 128.  ...  72.6  71.   74.6]\n",
            "7 [152.6 151.8 151.  ... 102.4 103.8 104.6]\n",
            "8 [96.  97.2 96.2 ... 78.6 77.2 78.2]\n",
            "9 [66.6 65.4 67.8 ... 62.2 60.6 63.4]\n",
            "10 [121.2 119.4 120.2 ...  65.   63.4  60.2]\n",
            "11 [111.6 114.8 114.2 ...  75.4  75.   75.8]\n",
            "12 [120.  117.6 119.8 ...  59.   57.   62.4]\n",
            "13 [135.2 131.2 133.6 ...  26.8  30.6  34.6]\n",
            "14 [48.  47.  46.4 ... 32.8 32.8 37.6]\n",
            "15 [84.2 82.8 83.4 ... 36.6 38.6 31.6]\n",
            "16 [105.2 106.2 106.2 ...  35.   35.6  30.4]\n",
            "17 [108.2 108.8 107.6 ...  21.2  24.4  24. ]\n",
            "18 [ 58.   60.2  57.4 ... 120.4 125.6 109.6]\n",
            "19 [ 75.   76.   78.2 ... 116.2 109.6 109. ]\n",
            "20 [71.8 71.  71.6 ... 70.8 48.8 53.2]\n",
            "21 [62.8 61.4 61.6 ... 66.8 72.2 65. ]\n",
            "22 [53.4 55.  56.6 ... 53.  52.6 50. ]\n",
            "23 [64.2 66.8 66.2 ... 50.6 53.6 54. ]\n",
            "24 [121.4 119.8 121.6 ...  70.2  70.6  68.2]\n",
            "25 [63.8 61.6 65.4 ... 46.2 47.8 45.6]\n",
            "26 [72.8 73.8 74.2 ... 39.8 42.6 43. ]\n",
            "27 [108.8 109.2 110.2 ...  36.4  37.6  33.4]\n",
            "28 [103.8 102.2 102.4 ... 156.4 152.2 149.8]\n",
            "29 [ 71.4  75.4  74.6 ... 152.8 139.2 154. ]\n",
            "30 [ 70.4  69.2  69.2 ... 114.2 114.6 109.6]\n",
            "31 [120.4 122.  121.  ...  74.2  76.6  77.2]\n",
            "32 [54.6 56.2 56.6 ... 56.6 53.  54.2]\n",
            "33 [69.8 70.8 71.2 ... 69.  71.2 71.8]\n",
            "34 [121.2 122.8 121.8 ...  88.6  95.8  94.2]\n",
            "35 [111.4 108.2 109.8 ...  60.   58.6  65. ]\n",
            "36 [71.8 67.8 69.6 ... 35.6 31.6 36.6]\n",
            "37 [57.  60.6 58.  ... 28.  31.  29.2]\n",
            "38 [63.8 65.  64.6 ... 82.2 83.2 79. ]\n",
            "39 [106.  106.8 104.4 ...  65.6  66.8  66.4]\n",
            "(280, 39)\n",
            "(120, 39)\n"
          ],
          "name": "stdout"
        },
        {
          "output_type": "error",
          "ename": "NameError",
          "evalue": "ignored",
          "traceback": [
            "\u001b[0;31m---------------------------------------------------------------------------\u001b[0m",
            "\u001b[0;31mNameError\u001b[0m                                 Traceback (most recent call last)",
            "\u001b[0;32m<ipython-input-23-702ea65e79cc>\u001b[0m in \u001b[0;36m<module>\u001b[0;34m()\u001b[0m\n\u001b[1;32m      3\u001b[0m \u001b[0mtransformed_traininig\u001b[0m \u001b[0;34m=\u001b[0m \u001b[0mtransform\u001b[0m\u001b[0;34m(\u001b[0m\u001b[0mtrain_X\u001b[0m\u001b[0;34m)\u001b[0m\u001b[0;34m\u001b[0m\u001b[0;34m\u001b[0m\u001b[0m\n\u001b[1;32m      4\u001b[0m \u001b[0mtransformed_testing\u001b[0m \u001b[0;34m=\u001b[0m \u001b[0mtransform\u001b[0m\u001b[0;34m(\u001b[0m\u001b[0mX_test\u001b[0m\u001b[0;34m)\u001b[0m\u001b[0;34m\u001b[0m\u001b[0;34m\u001b[0m\u001b[0m\n\u001b[0;32m----> 5\u001b[0;31m \u001b[0mknnLDA\u001b[0m\u001b[0;34m(\u001b[0m\u001b[0mtransformed_training\u001b[0m\u001b[0;34m,\u001b[0m \u001b[0mtrain_y\u001b[0m\u001b[0;34m,\u001b[0m \u001b[0mtransformed_testing\u001b[0m\u001b[0;34m,\u001b[0m \u001b[0my_test\u001b[0m\u001b[0;34m)\u001b[0m\u001b[0;34m\u001b[0m\u001b[0;34m\u001b[0m\u001b[0m\n\u001b[0m",
            "\u001b[0;31mNameError\u001b[0m: name 'transformed_training' is not defined"
          ]
        }
      ]
    },
    {
      "cell_type": "code",
      "metadata": {
        "id": "4DM3b2D5E6hK",
        "colab_type": "code",
        "outputId": "6a27a314-879c-4a22-bdce-430c8b4ff56a",
        "colab": {
          "base_uri": "https://localhost:8080/",
          "height": 298
        }
      },
      "source": [
        "knnLDA(transformed_traininig, train_y, transformed_testing, y_test)"
      ],
      "execution_count": 0,
      "outputs": [
        {
          "output_type": "stream",
          "text": [
            "No handles with labels found to put in legend.\n"
          ],
          "name": "stderr"
        },
        {
          "output_type": "stream",
          "text": [
            "[0.4166666666666667, 0.35833333333333334, 0.38333333333333336, 0.38333333333333336]\n"
          ],
          "name": "stdout"
        },
        {
          "output_type": "display_data",
          "data": {
            "image/png": "[encoded data removed]",
            "text/plain": [
              "<Figure size 432x288 with 1 Axes>"
            ]
          },
          "metadata": {
            "tags": []
          }
        }
      ]
    }
  ]
}