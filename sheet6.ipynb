{
  "nbformat": 4,
  "nbformat_minor": 0,
  "metadata": {
    "colab": {
      "name": "sheet6.ipynb",
      "provenance": [],
      "authorship_tag": "ABX9TyO/klLpyG+s5oJpcSj9Mg2R",
      "include_colab_link": true
    },
    "kernelspec": {
      "name": "python3",
      "display_name": "Python 3"
    }
  },
  "cells": [
    {
      "cell_type": "markdown",
      "metadata": {
        "id": "view-in-github",
        "colab_type": "text"
      },
      "source": [
        "<a href=\"https://colab.research.google.com/github/hagarbarakat/Pattern-Recognition/blob/master/sheet6.ipynb\" target=\"_parent\"><img src=\"https://colab.research.google.com/assets/colab-badge.svg\" alt=\"Open In Colab\"/></a>"
      ]
    },
    {
      "cell_type": "code",
      "metadata": {
        "id": "kt0iAx9jPcau",
        "colab_type": "code",
        "colab": {}
      },
      "source": [
        "import numpy as np \n",
        "from sklearn.linear_model import LinearRegression\n",
        "from sklearn.linear_model import Ridge"
      ],
      "execution_count": 0,
      "outputs": []
    },
    {
      "cell_type": "code",
      "metadata": {
        "id": "-jrtGEhgPomI",
        "colab_type": "code",
        "colab": {
          "base_uri": "https://localhost:8080/",
          "height": 68
        },
        "outputId": "7f47dbf6-4f35-428b-a7d4-6903fd234936"
      },
      "source": [
        "data = np.array([[1,1,5],[1,2,6],[1,2,10],\n",
        "                [1,2,12],[1,3,17],[1,3,12],[1,4,6],\n",
        "                [1,4,5],[1,4,7],[1,5,10]])\n",
        "y = np.array([10,40,50,60,70,50,30,20,40,70])\n",
        "regressor = LinearRegression()  \n",
        "regressor.fit(data, y)\n",
        "theta_0 = regressor.intercept_\n",
        "theta_1 = regressor.coef_[1]\n",
        "theta_2 = regressor.coef_[2]\n",
        "print(theta_0)\n",
        "print(theta_1)\n",
        "print(theta_2)"
      ],
      "execution_count": 7,
      "outputs": [
        {
          "output_type": "stream",
          "text": [
            "-7.987577639751542\n",
            "4.285714285714283\n",
            "4.3478260869565215\n"
          ],
          "name": "stdout"
        }
      ]
    },
    {
      "cell_type": "markdown",
      "metadata": {
        "id": "2HdYtycKm9r4",
        "colab_type": "text"
      },
      "source": [
        "**We want to add L-2 regularization to the obtained solution. We\n",
        "use Ridge regression from Scikit-learn to do so. Set alpha to\n",
        "[0.1,1,10,100].**"
      ]
    },
    {
      "cell_type": "code",
      "metadata": {
        "id": "57A08_GPnD57",
        "colab_type": "code",
        "colab": {
          "base_uri": "https://localhost:8080/",
          "height": 68
        },
        "outputId": "17dcb7d1-4ea7-4c94-89cc-113493e9f73e"
      },
      "source": [
        "alpha_1 = Ridge(alpha = 0.1)\n",
        "alpha_1.fit(data, y)\n",
        "theta_0 = alpha_1.intercept_\n",
        "theta_1 = alpha_1.coef_[1]\n",
        "theta_2 = alpha_1.coef_[2]\n",
        "print(theta_0)\n",
        "print(theta_1)\n",
        "print(theta_2)"
      ],
      "execution_count": 9,
      "outputs": [
        {
          "output_type": "stream",
          "text": [
            "-7.868057374397225\n",
            "4.25531914893617\n",
            "4.34467776973208\n"
          ],
          "name": "stdout"
        }
      ]
    },
    {
      "cell_type": "code",
      "metadata": {
        "id": "oQZKyDJh14ze",
        "colab_type": "code",
        "colab": {
          "base_uri": "https://localhost:8080/",
          "height": 68
        },
        "outputId": "6d6eb819-0e2d-44b4-d864-e90166d7498e"
      },
      "source": [
        "alpha_1 = Ridge(alpha = 1)\n",
        "alpha_1.fit(data, y)\n",
        "theta_0 = alpha_1.intercept_\n",
        "theta_1 = alpha_1.coef_[1]\n",
        "theta_2 = alpha_1.coef_[2]\n",
        "print(theta_0)\n",
        "print(theta_1)\n",
        "print(theta_2)"
      ],
      "execution_count": 10,
      "outputs": [
        {
          "output_type": "stream",
          "text": [
            "-6.8489208633093455\n",
            "3.999999999999999\n",
            "4.316546762589928\n"
          ],
          "name": "stdout"
        }
      ]
    },
    {
      "cell_type": "code",
      "metadata": {
        "id": "6dDDLWuu17IX",
        "colab_type": "code",
        "colab": {
          "base_uri": "https://localhost:8080/",
          "height": 68
        },
        "outputId": "ed7f86dc-6588-494d-c311-8c7194355590"
      },
      "source": [
        "alpha_1 = Ridge(alpha = 10)\n",
        "alpha_1.fit(data, y)\n",
        "theta_0 = alpha_1.intercept_\n",
        "theta_1 = alpha_1.coef_[1]\n",
        "theta_2 = alpha_1.coef_[2]\n",
        "print(theta_0)\n",
        "print(theta_1)\n",
        "print(theta_2)"
      ],
      "execution_count": 11,
      "outputs": [
        {
          "output_type": "stream",
          "text": [
            "0.013513513513508713\n",
            "2.500000000000001\n",
            "4.054054054054054\n"
          ],
          "name": "stdout"
        }
      ]
    },
    {
      "cell_type": "code",
      "metadata": {
        "id": "iPm-98r317wB",
        "colab_type": "code",
        "colab": {
          "base_uri": "https://localhost:8080/",
          "height": 68
        },
        "outputId": "a77935cc-ef2f-4f7e-f78a-28701b70aba9"
      },
      "source": [
        "alpha_1 = Ridge(alpha = 100)\n",
        "alpha_1.fit(data, y)\n",
        "theta_0 = alpha_1.intercept_\n",
        "theta_1 = alpha_1.coef_[1]\n",
        "theta_2 = alpha_1.coef_[2]\n",
        "print(theta_0)\n",
        "print(theta_1)\n",
        "print(theta_2)"
      ],
      "execution_count": 12,
      "outputs": [
        {
          "output_type": "stream",
          "text": [
            "19.73197700132685\n",
            "0.5263157894736843\n",
            "2.5210084033613445\n"
          ],
          "name": "stdout"
        }
      ]
    }
  ]
}